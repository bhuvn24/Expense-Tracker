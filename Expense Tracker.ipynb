{
 "cells": [
  {
   "cell_type": "code",
   "execution_count": 1,
   "id": "5828eb49-bed3-438c-bacd-30edc0577f1a",
   "metadata": {},
   "outputs": [
    {
     "name": "stdout",
     "output_type": "stream",
     "text": [
      "\n",
      "Expense Tracker Menu:\n",
      "1. Add Food Expense\n",
      "2. Add Transport Expense\n",
      "3. Add Clothes Expense\n",
      "4. Add Entertainment Expense\n",
      "5. Add Other Expense\n",
      "6. View Total Expenses\n",
      "7. Exit\n"
     ]
    },
    {
     "name": "stdin",
     "output_type": "stream",
     "text": [
      "Select an option:  1\n",
      "Enter the price of Food Expense:  200\n"
     ]
    },
    {
     "name": "stdout",
     "output_type": "stream",
     "text": [
      "\n",
      "Expense Tracker Menu:\n",
      "1. Add Food Expense\n",
      "2. Add Transport Expense\n",
      "3. Add Clothes Expense\n",
      "4. Add Entertainment Expense\n",
      "5. Add Other Expense\n",
      "6. View Total Expenses\n",
      "7. Exit\n"
     ]
    },
    {
     "name": "stdin",
     "output_type": "stream",
     "text": [
      "Select an option:  2\n",
      "Enter the price of Transport Expense:  200\n"
     ]
    },
    {
     "name": "stdout",
     "output_type": "stream",
     "text": [
      "\n",
      "Expense Tracker Menu:\n",
      "1. Add Food Expense\n",
      "2. Add Transport Expense\n",
      "3. Add Clothes Expense\n",
      "4. Add Entertainment Expense\n",
      "5. Add Other Expense\n",
      "6. View Total Expenses\n",
      "7. Exit\n"
     ]
    },
    {
     "name": "stdin",
     "output_type": "stream",
     "text": [
      "Select an option:  3\n",
      "Enter the price of Clothes Expense:  300\n"
     ]
    },
    {
     "name": "stdout",
     "output_type": "stream",
     "text": [
      "\n",
      "Expense Tracker Menu:\n",
      "1. Add Food Expense\n",
      "2. Add Transport Expense\n",
      "3. Add Clothes Expense\n",
      "4. Add Entertainment Expense\n",
      "5. Add Other Expense\n",
      "6. View Total Expenses\n",
      "7. Exit\n"
     ]
    },
    {
     "name": "stdin",
     "output_type": "stream",
     "text": [
      "Select an option:  4\n",
      "Enter the price of Entertainment Expense:  300\n"
     ]
    },
    {
     "name": "stdout",
     "output_type": "stream",
     "text": [
      "\n",
      "Expense Tracker Menu:\n",
      "1. Add Food Expense\n",
      "2. Add Transport Expense\n",
      "3. Add Clothes Expense\n",
      "4. Add Entertainment Expense\n",
      "5. Add Other Expense\n",
      "6. View Total Expenses\n",
      "7. Exit\n"
     ]
    },
    {
     "name": "stdin",
     "output_type": "stream",
     "text": [
      "Select an option:  0\n"
     ]
    },
    {
     "name": "stdout",
     "output_type": "stream",
     "text": [
      "Invalid choice. Please select a valid option (1-7).\n",
      "\n",
      "Expense Tracker Menu:\n",
      "1. Add Food Expense\n",
      "2. Add Transport Expense\n",
      "3. Add Clothes Expense\n",
      "4. Add Entertainment Expense\n",
      "5. Add Other Expense\n",
      "6. View Total Expenses\n",
      "7. Exit\n"
     ]
    },
    {
     "name": "stdin",
     "output_type": "stream",
     "text": [
      "Select an option:  6\n"
     ]
    },
    {
     "name": "stdout",
     "output_type": "stream",
     "text": [
      "The total expenses are: 1000.0\n",
      "\n",
      "Expense Tracker Menu:\n",
      "1. Add Food Expense\n",
      "2. Add Transport Expense\n",
      "3. Add Clothes Expense\n",
      "4. Add Entertainment Expense\n",
      "5. Add Other Expense\n",
      "6. View Total Expenses\n",
      "7. Exit\n"
     ]
    },
    {
     "name": "stdin",
     "output_type": "stream",
     "text": [
      "Select an option:  7\n"
     ]
    },
    {
     "name": "stdout",
     "output_type": "stream",
     "text": [
      "Thank you!\n"
     ]
    }
   ],
   "source": [
    "import csv\n",
    "\n",
    "def record_expense(category, price):\n",
    "    \"\"\"Records an expense to a CSV file.\"\"\"\n",
    "    with open(\"expenses.csv\", \"a\", newline=\"\") as csvfile:\n",
    "        writer = csv.writer(csvfile)\n",
    "        writer.writerow([category, price])\n",
    "\n",
    "def food():\n",
    "    while True:\n",
    "        try:\n",
    "            price_food = float(input(\"Enter the price of Food Expense: \"))\n",
    "            record_expense(\"Food\", price_food)\n",
    "            break  # Exit the loop if input is valid\n",
    "        except ValueError:\n",
    "            print(\"Invalid input. Please enter a number.\")\n",
    "\n",
    "def clothes():\n",
    "    while True:\n",
    "        try:\n",
    "            price_clothes = float(input(\"Enter the price of Clothes Expense: \"))\n",
    "            record_expense(\"Clothes\", price_clothes)\n",
    "            break\n",
    "        except ValueError:\n",
    "            print(\"Invalid input. Please enter a number.\")\n",
    "\n",
    "def entertainment():\n",
    "     while True:\n",
    "        try:\n",
    "            price_entertainment = float(input(\"Enter the price of Entertainment Expense: \"))\n",
    "            record_expense(\"Entertainment\", price_entertainment)\n",
    "            break\n",
    "        except ValueError:\n",
    "            print(\"Invalid input. Please enter a number.\")\n",
    "\n",
    "def transport():\n",
    "     while True:\n",
    "        try:\n",
    "            price_transport = float(input(\"Enter the price of Transport Expense: \"))\n",
    "            record_expense(\"Transport\", price_transport)\n",
    "            break\n",
    "        except ValueError:\n",
    "            print(\"Invalid input. Please enter a number.\")\n",
    "\n",
    "def others():\n",
    "     while True:\n",
    "        try:\n",
    "            price_others = float(input(\"Enter the price of Other Expense: \"))\n",
    "            record_expense(\"Other\", price_others)\n",
    "            break\n",
    "        except ValueError:\n",
    "            print(\"Invalid input. Please enter a number.\")\n",
    "\n",
    "\n",
    "def calculate_total_expenses():\n",
    "    \"\"\"Calculates the total expenses from the CSV file.\"\"\"\n",
    "    total = 0\n",
    "    try:\n",
    "        with open(\"expenses.csv\", \"r\") as csvfile:\n",
    "            reader = csv.reader(csvfile)\n",
    "            for row in reader:\n",
    "                try:\n",
    "                    total += float(row[1])  # Assuming price is in the second column\n",
    "                except ValueError:\n",
    "                    print(f\"Skipping invalid price in row: {row}\") #Handles non-numeric data in the file\n",
    "    except FileNotFoundError:\n",
    "        print(\"No expense data found.\")\n",
    "        return 0\n",
    "    return total\n",
    "\n",
    "\n",
    "while True:\n",
    "    print(\"\\nExpense Tracker Menu:\")\n",
    "    print(\"1. Add Food Expense\")\n",
    "    print(\"2. Add Transport Expense\")\n",
    "    print(\"3. Add Clothes Expense\")\n",
    "    print(\"4. Add Entertainment Expense\")\n",
    "    print(\"5. Add Other Expense\")\n",
    "    print(\"6. View Total Expenses\")\n",
    "    print(\"7. Exit\")\n",
    "\n",
    "    choice = input(\"Select an option: \")\n",
    "\n",
    "    if choice == \"1\":\n",
    "        food()\n",
    "    elif choice == \"2\":\n",
    "        transport()\n",
    "    elif choice == \"3\":\n",
    "        clothes()\n",
    "    elif choice == \"4\":\n",
    "        entertainment()\n",
    "    elif choice == \"5\":\n",
    "        others()\n",
    "    elif choice == \"6\":\n",
    "        total_expenses = calculate_total_expenses()\n",
    "        print(f\"The total expenses are: {total_expenses}\")\n",
    "    elif choice == \"7\":\n",
    "        print(\"Thank you!\")\n",
    "        break\n",
    "    else:\n",
    "        print(\"Invalid choice. Please select a valid option (1-7).\")\n"
   ]
  },
  {
   "cell_type": "code",
   "execution_count": null,
   "id": "b6dd5795-48fc-4584-96c3-002929d936a8",
   "metadata": {},
   "outputs": [],
   "source": []
  }
 ],
 "metadata": {
  "kernelspec": {
   "display_name": "Python 3 (ipykernel)",
   "language": "python",
   "name": "python3"
  },
  "language_info": {
   "codemirror_mode": {
    "name": "ipython",
    "version": 3
   },
   "file_extension": ".py",
   "mimetype": "text/x-python",
   "name": "python",
   "nbconvert_exporter": "python",
   "pygments_lexer": "ipython3",
   "version": "3.12.4"
  }
 },
 "nbformat": 4,
 "nbformat_minor": 5
}
